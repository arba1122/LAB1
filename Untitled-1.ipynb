{
 "cells": [
  {
   "cell_type": "code",
   "execution_count": null,
   "metadata": {},
   "outputs": [],
   "source": [
    "# Skapar en dictionary för DNA sekvenser\n",
    "dna_data = {\n",
    "    \"seq1\": \"cGTAaccaataaaaaaacaagcttaacctaattc\",  # Dna sekvens 1\n",
    "    \"seq2\": \"agcttagTTTGGatctggccgggg\",  # Dna sekvens 2\n",
    "    \"seq3\": \"gcggatttactcCCCCCAAAAANNaggggagagcccagataaatggagtctgtgcgtccaca\",  # Dna sekvens 3\n",
    "    \"seq4\": \"gcggatttactcaggggagagcccagGGataaatggagtctgtgcgtccaca\"  # Dna ekvens 4\n",
    "}\n",
    "\n",
    "# Loopar igenom varje Dna sekvens\n",
    "for seq_id, sequence in dna_data.items():\n",
    "    sequence = sequence.upper()  \n",
    "    \n",
    "    # Räknar antalet av varje DNA-bokstav\n",
    "    a = sequence.count(\"A\")  # Räknar alla A\n",
    "    t = sequence.count(\"T\")  # Räknar alla T\n",
    "    c = sequence.count(\"C\")  # Räknar alla C\n",
    "    g = sequence.count(\"G\")  # Räknar alla G\n",
    "    \n",
    "    # Skriver ut resultatet för varje sekvens\n",
    "    print(seq_id, \"A:\", a, \"T:\", t, \"C:\", c, \"G:\", g)\n"
   ]
  }
 ],
 "metadata": {
  "language_info": {
   "name": "python"
  }
 },
 "nbformat": 4,
 "nbformat_minor": 2
}
