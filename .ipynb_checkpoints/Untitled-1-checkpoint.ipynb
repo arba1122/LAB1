{
 "cells": [
  {
   "cell_type": "code",
   "execution_count": 1,
   "metadata": {},
   "outputs": [
    {
     "name": "stdout",
     "output_type": "stream",
     "text": [
      "seq1 A: 17 T: 7 C: 8 G: 2\n",
      "seq2 A: 3 T: 7 C: 4 G: 10\n",
      "seq3 A: 18 T: 10 C: 16 G: 16\n",
      "seq4 A: 13 T: 10 C: 11 G: 18\n"
     ]
    }
   ],
   "source": [
    "# Skapar en dictionary för DNA sekvenser\n",
    "dna_data = {\n",
    "    \"seq1\": \"cGTAaccaataaaaaaacaagcttaacctaattc\",  # Dna sekvens 1\n",
    "    \"seq2\": \"agcttagTTTGGatctggccgggg\",  # Dna sekvens 2\n",
    "    \"seq3\": \"gcggatttactcCCCCCAAAAANNaggggagagcccagataaatggagtctgtgcgtccaca\",  # Dna sekvens 3\n",
    "    \"seq4\": \"gcggatttactcaggggagagcccagGGataaatggagtctgtgcgtccaca\"  # Dna ekvens 4\n",
    "}\n",
    "\n",
    "# Loopar igenom varje Dna sekvens\n",
    "for seq_id, sequence in dna_data.items():\n",
    "    sequence = sequence.upper()  \n",
    "    \n",
    "    # Räknar antalet av varje DNA-bokstav\n",
    "    a = sequence.count(\"A\")  # Räknar alla A\n",
    "    t = sequence.count(\"T\")  # Räknar alla T\n",
    "    c = sequence.count(\"C\")  # Räknar alla C\n",
    "    g = sequence.count(\"G\")  # Räknar alla G\n",
    "    \n",
    "    # Skriver ut resultatet för varje sekvens\n",
    "    print(seq_id, \"A:\", a, \"T:\", t, \"C:\", c, \"G:\", g)\n"
   ]
  }
 ],
 "metadata": {
  "kernelspec": {
   "display_name": "Python 3",
   "language": "python",
   "name": "python3"
  },
  "language_info": {
   "codemirror_mode": {
    "name": "ipython",
    "version": 3
   },
   "file_extension": ".py",
   "mimetype": "text/x-python",
   "name": "python",
   "nbconvert_exporter": "python",
   "pygments_lexer": "ipython3",
   "version": "3.12.9"
  }
 },
 "nbformat": 4,
 "nbformat_minor": 2
}
